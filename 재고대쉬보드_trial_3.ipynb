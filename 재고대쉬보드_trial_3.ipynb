{
 "cells": [
  {
   "cell_type": "code",
   "execution_count": 1,
   "metadata": {},
   "outputs": [],
   "source": [
    "import pandas as pd\n",
    "import numpy as np\n",
    "import matplotlib.pyplot as plt"
   ]
  },
  {
   "cell_type": "code",
   "execution_count": 2,
   "metadata": {},
   "outputs": [],
   "source": [
    "import warnings"
   ]
  },
  {
   "cell_type": "code",
   "execution_count": 3,
   "metadata": {},
   "outputs": [],
   "source": [
    "warnings.filterwarnings('ignore')"
   ]
  },
  {
   "cell_type": "code",
   "execution_count": 4,
   "metadata": {},
   "outputs": [],
   "source": [
    "bra_tag = pd.read_csv('상품태그달기(응답) - 브라태그_수정_0617_2.csv')"
   ]
  },
  {
   "cell_type": "code",
   "execution_count": 5,
   "metadata": {},
   "outputs": [],
   "source": [
    "from pandas import Series, DataFrame\n",
    "\n",
    "\n"
   ]
  },
  {
   "cell_type": "code",
   "execution_count": 6,
   "metadata": {},
   "outputs": [],
   "source": [
    "from sklearn.preprocessing import LabelEncoder\n",
    "\n"
   ]
  },
  {
   "cell_type": "code",
   "execution_count": 7,
   "metadata": {},
   "outputs": [
    {
     "data": {
      "text/html": [
       "<div>\n",
       "<style scoped>\n",
       "    .dataframe tbody tr th:only-of-type {\n",
       "        vertical-align: middle;\n",
       "    }\n",
       "\n",
       "    .dataframe tbody tr th {\n",
       "        vertical-align: top;\n",
       "    }\n",
       "\n",
       "    .dataframe thead th {\n",
       "        text-align: right;\n",
       "    }\n",
       "</style>\n",
       "<table border=\"1\" class=\"dataframe\">\n",
       "  <thead>\n",
       "    <tr style=\"text-align: right;\">\n",
       "      <th></th>\n",
       "      <th>Item</th>\n",
       "      <th>color_item</th>\n",
       "      <th>Size</th>\n",
       "      <th>Actualize</th>\n",
       "      <th>material</th>\n",
       "      <th>Color</th>\n",
       "      <th>description</th>\n",
       "      <th>Thickness</th>\n",
       "      <th>pad</th>\n",
       "      <th>cub_type</th>\n",
       "    </tr>\n",
       "  </thead>\n",
       "  <tbody>\n",
       "    <tr>\n",
       "      <th>0</th>\n",
       "      <td>에스더 볼륨업 브라세트</td>\n",
       "      <td>레드</td>\n",
       "      <td>S</td>\n",
       "      <td>60B, 65A, 65AA</td>\n",
       "      <td>광택감이 도는 소재</td>\n",
       "      <td>원색계열 (무지개색)</td>\n",
       "      <td>은사</td>\n",
       "      <td>2.5~3cm</td>\n",
       "      <td>불가능</td>\n",
       "      <td>3/4컵, 저중심</td>\n",
       "    </tr>\n",
       "    <tr>\n",
       "      <th>1</th>\n",
       "      <td>에스더 볼륨업 브라세트</td>\n",
       "      <td>레드</td>\n",
       "      <td>M</td>\n",
       "      <td>65B, 70A, 70AA</td>\n",
       "      <td>광택감이 도는 소재</td>\n",
       "      <td>원색계열 (무지개색)</td>\n",
       "      <td>은사</td>\n",
       "      <td>2.5~3cm</td>\n",
       "      <td>불가능</td>\n",
       "      <td>3/4컵, 저중심</td>\n",
       "    </tr>\n",
       "    <tr>\n",
       "      <th>2</th>\n",
       "      <td>에스더 볼륨업 브라세트</td>\n",
       "      <td>레드</td>\n",
       "      <td>L</td>\n",
       "      <td>70B, 75A, 75AA</td>\n",
       "      <td>광택감이 도는 소재</td>\n",
       "      <td>원색계열 (무지개색)</td>\n",
       "      <td>은사</td>\n",
       "      <td>2.5~3cm</td>\n",
       "      <td>불가능</td>\n",
       "      <td>3/4컵, 저중심</td>\n",
       "    </tr>\n",
       "    <tr>\n",
       "      <th>3</th>\n",
       "      <td>에스더 볼륨업 브라세트</td>\n",
       "      <td>레드</td>\n",
       "      <td>XL</td>\n",
       "      <td>75B, 80A, 80AA</td>\n",
       "      <td>광택감이 도는 소재</td>\n",
       "      <td>원색계열 (무지개색)</td>\n",
       "      <td>은사</td>\n",
       "      <td>2.5~3cm</td>\n",
       "      <td>불가능</td>\n",
       "      <td>3/4컵, 저중심</td>\n",
       "    </tr>\n",
       "    <tr>\n",
       "      <th>4</th>\n",
       "      <td>에스더 볼륨업 브라세트</td>\n",
       "      <td>퍼플그레이</td>\n",
       "      <td>S</td>\n",
       "      <td>60B, 65AA, 65A</td>\n",
       "      <td>광택감이 도는 소재</td>\n",
       "      <td>무채색계열 (블랙, 화이트, 그레이)</td>\n",
       "      <td>은사</td>\n",
       "      <td>2.5~3cm</td>\n",
       "      <td>불가능</td>\n",
       "      <td>3/4컵, 저중심</td>\n",
       "    </tr>\n",
       "    <tr>\n",
       "      <th>...</th>\n",
       "      <td>...</td>\n",
       "      <td>...</td>\n",
       "      <td>...</td>\n",
       "      <td>...</td>\n",
       "      <td>...</td>\n",
       "      <td>...</td>\n",
       "      <td>...</td>\n",
       "      <td>...</td>\n",
       "      <td>...</td>\n",
       "      <td>...</td>\n",
       "    </tr>\n",
       "    <tr>\n",
       "      <th>980</th>\n",
       "      <td>윌로우 이지브라세트</td>\n",
       "      <td>오렌지</td>\n",
       "      <td>85B</td>\n",
       "      <td>85A, 85B</td>\n",
       "      <td>레이스 원단, 몸에 밀착되고 복원력이 좋은 소재</td>\n",
       "      <td>원색계열 (무지개색)</td>\n",
       "      <td>레이스 장식</td>\n",
       "      <td>1~2cm</td>\n",
       "      <td>불가능</td>\n",
       "      <td>3/4컵</td>\n",
       "    </tr>\n",
       "    <tr>\n",
       "      <th>981</th>\n",
       "      <td>윌로우 이지브라세트</td>\n",
       "      <td>블랙</td>\n",
       "      <td>70B</td>\n",
       "      <td>65A, 65B, 70A</td>\n",
       "      <td>레이스 원단, 몸에 밀착되고 복원력이 좋은 소재</td>\n",
       "      <td>무채색계열 (블랙, 화이트, 그레이)</td>\n",
       "      <td>레이스 장식</td>\n",
       "      <td>1~2cm</td>\n",
       "      <td>불가능</td>\n",
       "      <td>3/4컵</td>\n",
       "    </tr>\n",
       "    <tr>\n",
       "      <th>982</th>\n",
       "      <td>윌로우 이지브라세트</td>\n",
       "      <td>블랙</td>\n",
       "      <td>75B</td>\n",
       "      <td>70B, 75A, 75B</td>\n",
       "      <td>레이스 원단, 몸에 밀착되고 복원력이 좋은 소재</td>\n",
       "      <td>무채색계열 (블랙, 화이트, 그레이)</td>\n",
       "      <td>레이스 장식</td>\n",
       "      <td>1~2cm</td>\n",
       "      <td>불가능</td>\n",
       "      <td>3/4컵</td>\n",
       "    </tr>\n",
       "    <tr>\n",
       "      <th>983</th>\n",
       "      <td>윌로우 이지브라세트</td>\n",
       "      <td>블랙</td>\n",
       "      <td>80B</td>\n",
       "      <td>80A, 80B</td>\n",
       "      <td>레이스 원단, 몸에 밀착되고 복원력이 좋은 소재</td>\n",
       "      <td>무채색계열 (블랙, 화이트, 그레이)</td>\n",
       "      <td>레이스 장식</td>\n",
       "      <td>1~2cm</td>\n",
       "      <td>불가능</td>\n",
       "      <td>3/4컵</td>\n",
       "    </tr>\n",
       "    <tr>\n",
       "      <th>984</th>\n",
       "      <td>윌로우 이지브라세트</td>\n",
       "      <td>블랙</td>\n",
       "      <td>85B</td>\n",
       "      <td>85A, 85B</td>\n",
       "      <td>레이스 원단, 몸에 밀착되고 복원력이 좋은 소재</td>\n",
       "      <td>무채색계열 (블랙, 화이트, 그레이)</td>\n",
       "      <td>레이스 장식</td>\n",
       "      <td>1~2cm</td>\n",
       "      <td>불가능</td>\n",
       "      <td>3/4컵</td>\n",
       "    </tr>\n",
       "  </tbody>\n",
       "</table>\n",
       "<p>985 rows × 10 columns</p>\n",
       "</div>"
      ],
      "text/plain": [
       "             Item color_item Size       Actualize                    material  \\\n",
       "0    에스더 볼륨업 브라세트         레드    S  60B, 65A, 65AA                  광택감이 도는 소재   \n",
       "1    에스더 볼륨업 브라세트         레드    M  65B, 70A, 70AA                  광택감이 도는 소재   \n",
       "2    에스더 볼륨업 브라세트         레드    L  70B, 75A, 75AA                  광택감이 도는 소재   \n",
       "3    에스더 볼륨업 브라세트         레드   XL  75B, 80A, 80AA                  광택감이 도는 소재   \n",
       "4    에스더 볼륨업 브라세트      퍼플그레이    S  60B, 65AA, 65A                  광택감이 도는 소재   \n",
       "..            ...        ...  ...             ...                         ...   \n",
       "980    윌로우 이지브라세트        오렌지  85B        85A, 85B  레이스 원단, 몸에 밀착되고 복원력이 좋은 소재   \n",
       "981    윌로우 이지브라세트         블랙  70B   65A, 65B, 70A  레이스 원단, 몸에 밀착되고 복원력이 좋은 소재   \n",
       "982    윌로우 이지브라세트         블랙  75B   70B, 75A, 75B  레이스 원단, 몸에 밀착되고 복원력이 좋은 소재   \n",
       "983    윌로우 이지브라세트         블랙  80B        80A, 80B  레이스 원단, 몸에 밀착되고 복원력이 좋은 소재   \n",
       "984    윌로우 이지브라세트         블랙  85B        85A, 85B  레이스 원단, 몸에 밀착되고 복원력이 좋은 소재   \n",
       "\n",
       "                    Color description Thickness  pad   cub_type  \n",
       "0             원색계열 (무지개색)          은사   2.5~3cm  불가능  3/4컵, 저중심  \n",
       "1             원색계열 (무지개색)          은사   2.5~3cm  불가능  3/4컵, 저중심  \n",
       "2             원색계열 (무지개색)          은사   2.5~3cm  불가능  3/4컵, 저중심  \n",
       "3             원색계열 (무지개색)          은사   2.5~3cm  불가능  3/4컵, 저중심  \n",
       "4    무채색계열 (블랙, 화이트, 그레이)          은사   2.5~3cm  불가능  3/4컵, 저중심  \n",
       "..                    ...         ...       ...  ...        ...  \n",
       "980           원색계열 (무지개색)      레이스 장식     1~2cm  불가능       3/4컵  \n",
       "981  무채색계열 (블랙, 화이트, 그레이)      레이스 장식     1~2cm  불가능       3/4컵  \n",
       "982  무채색계열 (블랙, 화이트, 그레이)      레이스 장식     1~2cm  불가능       3/4컵  \n",
       "983  무채색계열 (블랙, 화이트, 그레이)      레이스 장식     1~2cm  불가능       3/4컵  \n",
       "984  무채색계열 (블랙, 화이트, 그레이)      레이스 장식     1~2cm  불가능       3/4컵  \n",
       "\n",
       "[985 rows x 10 columns]"
      ]
     },
     "metadata": {},
     "output_type": "display_data"
    }
   ],
   "source": [
    "display(bra_tag)"
   ]
  },
  {
   "cell_type": "code",
   "execution_count": 8,
   "metadata": {},
   "outputs": [],
   "source": [
    "le = LabelEncoder()"
   ]
  },
  {
   "cell_type": "code",
   "execution_count": 9,
   "metadata": {},
   "outputs": [],
   "source": [
    "result = le.fit_transform(bra_tag.description)\n",
    "\n"
   ]
  },
  {
   "cell_type": "code",
   "execution_count": 10,
   "metadata": {},
   "outputs": [
    {
     "data": {
      "text/plain": [
       "array(['다중스트랩', '레이스 많음', '레이스 많음, 다중스트랩', '레이스 많음, 다중스트랩, 언더바스트 장식',\n",
       "       '레이스 많음, 언더바스트 장식', '레이스 많음, 컨버터블 브라', '레이스 장식', '레이스 장식, 다중스트랩',\n",
       "       '레이스 장식, 다중스트랩, 언더바스트 장식', '레이스 장식, 다중스트랩, 컨버터블 브라',\n",
       "       '레이스 장식, 언더바스트 장식', '레이스 장식, 컨버터블 브라', '리본, 레이스 많음',\n",
       "       '리본, 레이스 많음, 다중스트랩', '리본, 레이스 많음, 다중스트랩, 언더바스트 장식',\n",
       "       '리본, 레이스 많음, 언더바스트 장식', '리본, 레이스 장식, 다중스트랩, 언더바스트 장식',\n",
       "       '리본, 레이스 장식, 프릴, 다중스트랩, 언더바스트 장식', '리본, 자가드패턴, 언더바스트 장식',\n",
       "       '리본, 체크패턴, 은사', '베이직', '베이직, 리본', '베이직, 리본, 다중스트랩',\n",
       "       '베이직, 언더바스트 장식', '스트라이프패턴', '은사', '큐빅 또는 비즈장식, 다중스트랩',\n",
       "       '큐빅 또는 비즈장식, 리본, 레이스 많음, 다중스트랩, 언더바스트 장식', '프릴, 언더바스트 장식'],\n",
       "      dtype=object)"
      ]
     },
     "execution_count": 10,
     "metadata": {},
     "output_type": "execute_result"
    }
   ],
   "source": [
    "le.classes_"
   ]
  },
  {
   "cell_type": "code",
   "execution_count": 11,
   "metadata": {},
   "outputs": [],
   "source": [
    "bra_tag['dec'] = result"
   ]
  },
  {
   "cell_type": "code",
   "execution_count": 12,
   "metadata": {
    "scrolled": false
   },
   "outputs": [
    {
     "data": {
      "text/html": [
       "<div>\n",
       "<style scoped>\n",
       "    .dataframe tbody tr th:only-of-type {\n",
       "        vertical-align: middle;\n",
       "    }\n",
       "\n",
       "    .dataframe tbody tr th {\n",
       "        vertical-align: top;\n",
       "    }\n",
       "\n",
       "    .dataframe thead th {\n",
       "        text-align: right;\n",
       "    }\n",
       "</style>\n",
       "<table border=\"1\" class=\"dataframe\">\n",
       "  <thead>\n",
       "    <tr style=\"text-align: right;\">\n",
       "      <th></th>\n",
       "      <th>Item</th>\n",
       "      <th>color_item</th>\n",
       "      <th>Size</th>\n",
       "      <th>Actualize</th>\n",
       "      <th>material</th>\n",
       "      <th>Color</th>\n",
       "      <th>description</th>\n",
       "      <th>Thickness</th>\n",
       "      <th>pad</th>\n",
       "      <th>cub_type</th>\n",
       "      <th>dec</th>\n",
       "    </tr>\n",
       "  </thead>\n",
       "  <tbody>\n",
       "    <tr>\n",
       "      <th>0</th>\n",
       "      <td>에스더 볼륨업 브라세트</td>\n",
       "      <td>레드</td>\n",
       "      <td>S</td>\n",
       "      <td>60B, 65A, 65AA</td>\n",
       "      <td>광택감이 도는 소재</td>\n",
       "      <td>원색계열 (무지개색)</td>\n",
       "      <td>은사</td>\n",
       "      <td>2.5~3cm</td>\n",
       "      <td>불가능</td>\n",
       "      <td>3/4컵, 저중심</td>\n",
       "      <td>25</td>\n",
       "    </tr>\n",
       "    <tr>\n",
       "      <th>1</th>\n",
       "      <td>에스더 볼륨업 브라세트</td>\n",
       "      <td>레드</td>\n",
       "      <td>M</td>\n",
       "      <td>65B, 70A, 70AA</td>\n",
       "      <td>광택감이 도는 소재</td>\n",
       "      <td>원색계열 (무지개색)</td>\n",
       "      <td>은사</td>\n",
       "      <td>2.5~3cm</td>\n",
       "      <td>불가능</td>\n",
       "      <td>3/4컵, 저중심</td>\n",
       "      <td>25</td>\n",
       "    </tr>\n",
       "    <tr>\n",
       "      <th>2</th>\n",
       "      <td>에스더 볼륨업 브라세트</td>\n",
       "      <td>레드</td>\n",
       "      <td>L</td>\n",
       "      <td>70B, 75A, 75AA</td>\n",
       "      <td>광택감이 도는 소재</td>\n",
       "      <td>원색계열 (무지개색)</td>\n",
       "      <td>은사</td>\n",
       "      <td>2.5~3cm</td>\n",
       "      <td>불가능</td>\n",
       "      <td>3/4컵, 저중심</td>\n",
       "      <td>25</td>\n",
       "    </tr>\n",
       "    <tr>\n",
       "      <th>3</th>\n",
       "      <td>에스더 볼륨업 브라세트</td>\n",
       "      <td>레드</td>\n",
       "      <td>XL</td>\n",
       "      <td>75B, 80A, 80AA</td>\n",
       "      <td>광택감이 도는 소재</td>\n",
       "      <td>원색계열 (무지개색)</td>\n",
       "      <td>은사</td>\n",
       "      <td>2.5~3cm</td>\n",
       "      <td>불가능</td>\n",
       "      <td>3/4컵, 저중심</td>\n",
       "      <td>25</td>\n",
       "    </tr>\n",
       "    <tr>\n",
       "      <th>4</th>\n",
       "      <td>에스더 볼륨업 브라세트</td>\n",
       "      <td>퍼플그레이</td>\n",
       "      <td>S</td>\n",
       "      <td>60B, 65AA, 65A</td>\n",
       "      <td>광택감이 도는 소재</td>\n",
       "      <td>무채색계열 (블랙, 화이트, 그레이)</td>\n",
       "      <td>은사</td>\n",
       "      <td>2.5~3cm</td>\n",
       "      <td>불가능</td>\n",
       "      <td>3/4컵, 저중심</td>\n",
       "      <td>25</td>\n",
       "    </tr>\n",
       "    <tr>\n",
       "      <th>...</th>\n",
       "      <td>...</td>\n",
       "      <td>...</td>\n",
       "      <td>...</td>\n",
       "      <td>...</td>\n",
       "      <td>...</td>\n",
       "      <td>...</td>\n",
       "      <td>...</td>\n",
       "      <td>...</td>\n",
       "      <td>...</td>\n",
       "      <td>...</td>\n",
       "      <td>...</td>\n",
       "    </tr>\n",
       "    <tr>\n",
       "      <th>980</th>\n",
       "      <td>윌로우 이지브라세트</td>\n",
       "      <td>오렌지</td>\n",
       "      <td>85B</td>\n",
       "      <td>85A, 85B</td>\n",
       "      <td>레이스 원단, 몸에 밀착되고 복원력이 좋은 소재</td>\n",
       "      <td>원색계열 (무지개색)</td>\n",
       "      <td>레이스 장식</td>\n",
       "      <td>1~2cm</td>\n",
       "      <td>불가능</td>\n",
       "      <td>3/4컵</td>\n",
       "      <td>6</td>\n",
       "    </tr>\n",
       "    <tr>\n",
       "      <th>981</th>\n",
       "      <td>윌로우 이지브라세트</td>\n",
       "      <td>블랙</td>\n",
       "      <td>70B</td>\n",
       "      <td>65A, 65B, 70A</td>\n",
       "      <td>레이스 원단, 몸에 밀착되고 복원력이 좋은 소재</td>\n",
       "      <td>무채색계열 (블랙, 화이트, 그레이)</td>\n",
       "      <td>레이스 장식</td>\n",
       "      <td>1~2cm</td>\n",
       "      <td>불가능</td>\n",
       "      <td>3/4컵</td>\n",
       "      <td>6</td>\n",
       "    </tr>\n",
       "    <tr>\n",
       "      <th>982</th>\n",
       "      <td>윌로우 이지브라세트</td>\n",
       "      <td>블랙</td>\n",
       "      <td>75B</td>\n",
       "      <td>70B, 75A, 75B</td>\n",
       "      <td>레이스 원단, 몸에 밀착되고 복원력이 좋은 소재</td>\n",
       "      <td>무채색계열 (블랙, 화이트, 그레이)</td>\n",
       "      <td>레이스 장식</td>\n",
       "      <td>1~2cm</td>\n",
       "      <td>불가능</td>\n",
       "      <td>3/4컵</td>\n",
       "      <td>6</td>\n",
       "    </tr>\n",
       "    <tr>\n",
       "      <th>983</th>\n",
       "      <td>윌로우 이지브라세트</td>\n",
       "      <td>블랙</td>\n",
       "      <td>80B</td>\n",
       "      <td>80A, 80B</td>\n",
       "      <td>레이스 원단, 몸에 밀착되고 복원력이 좋은 소재</td>\n",
       "      <td>무채색계열 (블랙, 화이트, 그레이)</td>\n",
       "      <td>레이스 장식</td>\n",
       "      <td>1~2cm</td>\n",
       "      <td>불가능</td>\n",
       "      <td>3/4컵</td>\n",
       "      <td>6</td>\n",
       "    </tr>\n",
       "    <tr>\n",
       "      <th>984</th>\n",
       "      <td>윌로우 이지브라세트</td>\n",
       "      <td>블랙</td>\n",
       "      <td>85B</td>\n",
       "      <td>85A, 85B</td>\n",
       "      <td>레이스 원단, 몸에 밀착되고 복원력이 좋은 소재</td>\n",
       "      <td>무채색계열 (블랙, 화이트, 그레이)</td>\n",
       "      <td>레이스 장식</td>\n",
       "      <td>1~2cm</td>\n",
       "      <td>불가능</td>\n",
       "      <td>3/4컵</td>\n",
       "      <td>6</td>\n",
       "    </tr>\n",
       "  </tbody>\n",
       "</table>\n",
       "<p>985 rows × 11 columns</p>\n",
       "</div>"
      ],
      "text/plain": [
       "             Item color_item Size       Actualize                    material  \\\n",
       "0    에스더 볼륨업 브라세트         레드    S  60B, 65A, 65AA                  광택감이 도는 소재   \n",
       "1    에스더 볼륨업 브라세트         레드    M  65B, 70A, 70AA                  광택감이 도는 소재   \n",
       "2    에스더 볼륨업 브라세트         레드    L  70B, 75A, 75AA                  광택감이 도는 소재   \n",
       "3    에스더 볼륨업 브라세트         레드   XL  75B, 80A, 80AA                  광택감이 도는 소재   \n",
       "4    에스더 볼륨업 브라세트      퍼플그레이    S  60B, 65AA, 65A                  광택감이 도는 소재   \n",
       "..            ...        ...  ...             ...                         ...   \n",
       "980    윌로우 이지브라세트        오렌지  85B        85A, 85B  레이스 원단, 몸에 밀착되고 복원력이 좋은 소재   \n",
       "981    윌로우 이지브라세트         블랙  70B   65A, 65B, 70A  레이스 원단, 몸에 밀착되고 복원력이 좋은 소재   \n",
       "982    윌로우 이지브라세트         블랙  75B   70B, 75A, 75B  레이스 원단, 몸에 밀착되고 복원력이 좋은 소재   \n",
       "983    윌로우 이지브라세트         블랙  80B        80A, 80B  레이스 원단, 몸에 밀착되고 복원력이 좋은 소재   \n",
       "984    윌로우 이지브라세트         블랙  85B        85A, 85B  레이스 원단, 몸에 밀착되고 복원력이 좋은 소재   \n",
       "\n",
       "                    Color description Thickness  pad   cub_type  dec  \n",
       "0             원색계열 (무지개색)          은사   2.5~3cm  불가능  3/4컵, 저중심   25  \n",
       "1             원색계열 (무지개색)          은사   2.5~3cm  불가능  3/4컵, 저중심   25  \n",
       "2             원색계열 (무지개색)          은사   2.5~3cm  불가능  3/4컵, 저중심   25  \n",
       "3             원색계열 (무지개색)          은사   2.5~3cm  불가능  3/4컵, 저중심   25  \n",
       "4    무채색계열 (블랙, 화이트, 그레이)          은사   2.5~3cm  불가능  3/4컵, 저중심   25  \n",
       "..                    ...         ...       ...  ...        ...  ...  \n",
       "980           원색계열 (무지개색)      레이스 장식     1~2cm  불가능       3/4컵    6  \n",
       "981  무채색계열 (블랙, 화이트, 그레이)      레이스 장식     1~2cm  불가능       3/4컵    6  \n",
       "982  무채색계열 (블랙, 화이트, 그레이)      레이스 장식     1~2cm  불가능       3/4컵    6  \n",
       "983  무채색계열 (블랙, 화이트, 그레이)      레이스 장식     1~2cm  불가능       3/4컵    6  \n",
       "984  무채색계열 (블랙, 화이트, 그레이)      레이스 장식     1~2cm  불가능       3/4컵    6  \n",
       "\n",
       "[985 rows x 11 columns]"
      ]
     },
     "metadata": {},
     "output_type": "display_data"
    }
   ],
   "source": [
    "display(bra_tag)"
   ]
  },
  {
   "cell_type": "code",
   "execution_count": 13,
   "metadata": {},
   "outputs": [],
   "source": [
    "import matplotlib.pyplot as plt"
   ]
  },
  {
   "cell_type": "code",
   "execution_count": 14,
   "metadata": {},
   "outputs": [],
   "source": [
    "%matplotlib inline"
   ]
  },
  {
   "cell_type": "code",
   "execution_count": 15,
   "metadata": {},
   "outputs": [
    {
     "data": {
      "text/plain": [
       "<matplotlib.axes._subplots.AxesSubplot at 0x1a1ea19f50>"
      ]
     },
     "execution_count": 15,
     "metadata": {},
     "output_type": "execute_result"
    },
    {
     "data": {
      "image/png": "[encoded data removed]",
      "text/plain": [
       "<Figure size 720x720 with 1 Axes>"
      ]
     },
     "metadata": {
      "needs_background": "light"
     },
     "output_type": "display_data"
    }
   ],
   "source": [
    "bra_tag['dec'].sort_values().plot(kind='barh',grid=True, figsize=(10,10))"
   ]
  },
  {
   "cell_type": "code",
   "execution_count": 16,
   "metadata": {},
   "outputs": [
    {
     "data": {
      "text/plain": [
       "<function matplotlib.pyplot.show(*args, **kw)>"
      ]
     },
     "execution_count": 16,
     "metadata": {},
     "output_type": "execute_result"
    }
   ],
   "source": [
    "plt.show"
   ]
  },
  {
   "cell_type": "code",
   "execution_count": 17,
   "metadata": {},
   "outputs": [],
   "source": [
    "import seaborn as sns"
   ]
  },
  {
   "cell_type": "code",
   "execution_count": 18,
   "metadata": {},
   "outputs": [],
   "source": [
    "plt.rcParams['figure.figsize']=[10,8] # setting figure size"
   ]
  },
  {
   "cell_type": "code",
   "execution_count": 19,
   "metadata": {},
   "outputs": [
    {
     "data": {
      "text/plain": [
       "(985, 11)"
      ]
     },
     "execution_count": 19,
     "metadata": {},
     "output_type": "execute_result"
    }
   ],
   "source": [
    "bra_tag.shape"
   ]
  },
  {
   "cell_type": "code",
   "execution_count": 20,
   "metadata": {},
   "outputs": [
    {
     "data": {
      "text/html": [
       "<div>\n",
       "<style scoped>\n",
       "    .dataframe tbody tr th:only-of-type {\n",
       "        vertical-align: middle;\n",
       "    }\n",
       "\n",
       "    .dataframe tbody tr th {\n",
       "        vertical-align: top;\n",
       "    }\n",
       "\n",
       "    .dataframe thead th {\n",
       "        text-align: right;\n",
       "    }\n",
       "</style>\n",
       "<table border=\"1\" class=\"dataframe\">\n",
       "  <thead>\n",
       "    <tr style=\"text-align: right;\">\n",
       "      <th></th>\n",
       "      <th>Item</th>\n",
       "      <th>color_item</th>\n",
       "      <th>Size</th>\n",
       "      <th>Actualize</th>\n",
       "      <th>material</th>\n",
       "      <th>Color</th>\n",
       "      <th>description</th>\n",
       "      <th>Thickness</th>\n",
       "      <th>pad</th>\n",
       "      <th>cub_type</th>\n",
       "      <th>dec</th>\n",
       "    </tr>\n",
       "  </thead>\n",
       "  <tbody>\n",
       "    <tr>\n",
       "      <th>0</th>\n",
       "      <td>에스더 볼륨업 브라세트</td>\n",
       "      <td>레드</td>\n",
       "      <td>S</td>\n",
       "      <td>60B, 65A, 65AA</td>\n",
       "      <td>광택감이 도는 소재</td>\n",
       "      <td>원색계열 (무지개색)</td>\n",
       "      <td>은사</td>\n",
       "      <td>2.5~3cm</td>\n",
       "      <td>불가능</td>\n",
       "      <td>3/4컵, 저중심</td>\n",
       "      <td>25</td>\n",
       "    </tr>\n",
       "    <tr>\n",
       "      <th>1</th>\n",
       "      <td>에스더 볼륨업 브라세트</td>\n",
       "      <td>레드</td>\n",
       "      <td>M</td>\n",
       "      <td>65B, 70A, 70AA</td>\n",
       "      <td>광택감이 도는 소재</td>\n",
       "      <td>원색계열 (무지개색)</td>\n",
       "      <td>은사</td>\n",
       "      <td>2.5~3cm</td>\n",
       "      <td>불가능</td>\n",
       "      <td>3/4컵, 저중심</td>\n",
       "      <td>25</td>\n",
       "    </tr>\n",
       "    <tr>\n",
       "      <th>2</th>\n",
       "      <td>에스더 볼륨업 브라세트</td>\n",
       "      <td>레드</td>\n",
       "      <td>L</td>\n",
       "      <td>70B, 75A, 75AA</td>\n",
       "      <td>광택감이 도는 소재</td>\n",
       "      <td>원색계열 (무지개색)</td>\n",
       "      <td>은사</td>\n",
       "      <td>2.5~3cm</td>\n",
       "      <td>불가능</td>\n",
       "      <td>3/4컵, 저중심</td>\n",
       "      <td>25</td>\n",
       "    </tr>\n",
       "    <tr>\n",
       "      <th>3</th>\n",
       "      <td>에스더 볼륨업 브라세트</td>\n",
       "      <td>레드</td>\n",
       "      <td>XL</td>\n",
       "      <td>75B, 80A, 80AA</td>\n",
       "      <td>광택감이 도는 소재</td>\n",
       "      <td>원색계열 (무지개색)</td>\n",
       "      <td>은사</td>\n",
       "      <td>2.5~3cm</td>\n",
       "      <td>불가능</td>\n",
       "      <td>3/4컵, 저중심</td>\n",
       "      <td>25</td>\n",
       "    </tr>\n",
       "    <tr>\n",
       "      <th>4</th>\n",
       "      <td>에스더 볼륨업 브라세트</td>\n",
       "      <td>퍼플그레이</td>\n",
       "      <td>S</td>\n",
       "      <td>60B, 65AA, 65A</td>\n",
       "      <td>광택감이 도는 소재</td>\n",
       "      <td>무채색계열 (블랙, 화이트, 그레이)</td>\n",
       "      <td>은사</td>\n",
       "      <td>2.5~3cm</td>\n",
       "      <td>불가능</td>\n",
       "      <td>3/4컵, 저중심</td>\n",
       "      <td>25</td>\n",
       "    </tr>\n",
       "  </tbody>\n",
       "</table>\n",
       "</div>"
      ],
      "text/plain": [
       "           Item color_item Size       Actualize    material  \\\n",
       "0  에스더 볼륨업 브라세트         레드    S  60B, 65A, 65AA  광택감이 도는 소재   \n",
       "1  에스더 볼륨업 브라세트         레드    M  65B, 70A, 70AA  광택감이 도는 소재   \n",
       "2  에스더 볼륨업 브라세트         레드    L  70B, 75A, 75AA  광택감이 도는 소재   \n",
       "3  에스더 볼륨업 브라세트         레드   XL  75B, 80A, 80AA  광택감이 도는 소재   \n",
       "4  에스더 볼륨업 브라세트      퍼플그레이    S  60B, 65AA, 65A  광택감이 도는 소재   \n",
       "\n",
       "                  Color description Thickness  pad   cub_type  dec  \n",
       "0           원색계열 (무지개색)          은사   2.5~3cm  불가능  3/4컵, 저중심   25  \n",
       "1           원색계열 (무지개색)          은사   2.5~3cm  불가능  3/4컵, 저중심   25  \n",
       "2           원색계열 (무지개색)          은사   2.5~3cm  불가능  3/4컵, 저중심   25  \n",
       "3           원색계열 (무지개색)          은사   2.5~3cm  불가능  3/4컵, 저중심   25  \n",
       "4  무채색계열 (블랙, 화이트, 그레이)          은사   2.5~3cm  불가능  3/4컵, 저중심   25  "
      ]
     },
     "execution_count": 20,
     "metadata": {},
     "output_type": "execute_result"
    }
   ],
   "source": [
    "bra_tag.head()"
   ]
  },
  {
   "cell_type": "code",
   "execution_count": 21,
   "metadata": {},
   "outputs": [
    {
     "data": {
      "text/plain": [
       "pandas.core.frame.DataFrame"
      ]
     },
     "execution_count": 21,
     "metadata": {},
     "output_type": "execute_result"
    }
   ],
   "source": [
    "type(bra_tag.head(1))"
   ]
  },
  {
   "cell_type": "code",
   "execution_count": 22,
   "metadata": {},
   "outputs": [],
   "source": [
    "result_2 = le.fit_transform(bra_tag.Thickness)"
   ]
  },
  {
   "cell_type": "code",
   "execution_count": 23,
   "metadata": {},
   "outputs": [
    {
     "data": {
      "text/plain": [
       "array(['0~1cm', '1~2cm', '2.5~3cm', '2~2.5cm', '3cm이상', '홑겹'],\n",
       "      dtype=object)"
      ]
     },
     "execution_count": 23,
     "metadata": {},
     "output_type": "execute_result"
    }
   ],
   "source": [
    "le.classes_"
   ]
  },
  {
   "cell_type": "code",
   "execution_count": 24,
   "metadata": {},
   "outputs": [],
   "source": [
    "bra_tag['Thick'] = result_2"
   ]
  },
  {
   "cell_type": "code",
   "execution_count": 25,
   "metadata": {},
   "outputs": [
    {
     "data": {
      "text/html": [
       "<div>\n",
       "<style scoped>\n",
       "    .dataframe tbody tr th:only-of-type {\n",
       "        vertical-align: middle;\n",
       "    }\n",
       "\n",
       "    .dataframe tbody tr th {\n",
       "        vertical-align: top;\n",
       "    }\n",
       "\n",
       "    .dataframe thead th {\n",
       "        text-align: right;\n",
       "    }\n",
       "</style>\n",
       "<table border=\"1\" class=\"dataframe\">\n",
       "  <thead>\n",
       "    <tr style=\"text-align: right;\">\n",
       "      <th></th>\n",
       "      <th>Item</th>\n",
       "      <th>color_item</th>\n",
       "      <th>Size</th>\n",
       "      <th>Actualize</th>\n",
       "      <th>material</th>\n",
       "      <th>Color</th>\n",
       "      <th>description</th>\n",
       "      <th>Thickness</th>\n",
       "      <th>pad</th>\n",
       "      <th>cub_type</th>\n",
       "      <th>dec</th>\n",
       "      <th>Thick</th>\n",
       "    </tr>\n",
       "  </thead>\n",
       "  <tbody>\n",
       "    <tr>\n",
       "      <th>0</th>\n",
       "      <td>에스더 볼륨업 브라세트</td>\n",
       "      <td>레드</td>\n",
       "      <td>S</td>\n",
       "      <td>60B, 65A, 65AA</td>\n",
       "      <td>광택감이 도는 소재</td>\n",
       "      <td>원색계열 (무지개색)</td>\n",
       "      <td>은사</td>\n",
       "      <td>2.5~3cm</td>\n",
       "      <td>불가능</td>\n",
       "      <td>3/4컵, 저중심</td>\n",
       "      <td>25</td>\n",
       "      <td>2</td>\n",
       "    </tr>\n",
       "    <tr>\n",
       "      <th>1</th>\n",
       "      <td>에스더 볼륨업 브라세트</td>\n",
       "      <td>레드</td>\n",
       "      <td>M</td>\n",
       "      <td>65B, 70A, 70AA</td>\n",
       "      <td>광택감이 도는 소재</td>\n",
       "      <td>원색계열 (무지개색)</td>\n",
       "      <td>은사</td>\n",
       "      <td>2.5~3cm</td>\n",
       "      <td>불가능</td>\n",
       "      <td>3/4컵, 저중심</td>\n",
       "      <td>25</td>\n",
       "      <td>2</td>\n",
       "    </tr>\n",
       "    <tr>\n",
       "      <th>2</th>\n",
       "      <td>에스더 볼륨업 브라세트</td>\n",
       "      <td>레드</td>\n",
       "      <td>L</td>\n",
       "      <td>70B, 75A, 75AA</td>\n",
       "      <td>광택감이 도는 소재</td>\n",
       "      <td>원색계열 (무지개색)</td>\n",
       "      <td>은사</td>\n",
       "      <td>2.5~3cm</td>\n",
       "      <td>불가능</td>\n",
       "      <td>3/4컵, 저중심</td>\n",
       "      <td>25</td>\n",
       "      <td>2</td>\n",
       "    </tr>\n",
       "    <tr>\n",
       "      <th>3</th>\n",
       "      <td>에스더 볼륨업 브라세트</td>\n",
       "      <td>레드</td>\n",
       "      <td>XL</td>\n",
       "      <td>75B, 80A, 80AA</td>\n",
       "      <td>광택감이 도는 소재</td>\n",
       "      <td>원색계열 (무지개색)</td>\n",
       "      <td>은사</td>\n",
       "      <td>2.5~3cm</td>\n",
       "      <td>불가능</td>\n",
       "      <td>3/4컵, 저중심</td>\n",
       "      <td>25</td>\n",
       "      <td>2</td>\n",
       "    </tr>\n",
       "    <tr>\n",
       "      <th>4</th>\n",
       "      <td>에스더 볼륨업 브라세트</td>\n",
       "      <td>퍼플그레이</td>\n",
       "      <td>S</td>\n",
       "      <td>60B, 65AA, 65A</td>\n",
       "      <td>광택감이 도는 소재</td>\n",
       "      <td>무채색계열 (블랙, 화이트, 그레이)</td>\n",
       "      <td>은사</td>\n",
       "      <td>2.5~3cm</td>\n",
       "      <td>불가능</td>\n",
       "      <td>3/4컵, 저중심</td>\n",
       "      <td>25</td>\n",
       "      <td>2</td>\n",
       "    </tr>\n",
       "    <tr>\n",
       "      <th>...</th>\n",
       "      <td>...</td>\n",
       "      <td>...</td>\n",
       "      <td>...</td>\n",
       "      <td>...</td>\n",
       "      <td>...</td>\n",
       "      <td>...</td>\n",
       "      <td>...</td>\n",
       "      <td>...</td>\n",
       "      <td>...</td>\n",
       "      <td>...</td>\n",
       "      <td>...</td>\n",
       "      <td>...</td>\n",
       "    </tr>\n",
       "    <tr>\n",
       "      <th>980</th>\n",
       "      <td>윌로우 이지브라세트</td>\n",
       "      <td>오렌지</td>\n",
       "      <td>85B</td>\n",
       "      <td>85A, 85B</td>\n",
       "      <td>레이스 원단, 몸에 밀착되고 복원력이 좋은 소재</td>\n",
       "      <td>원색계열 (무지개색)</td>\n",
       "      <td>레이스 장식</td>\n",
       "      <td>1~2cm</td>\n",
       "      <td>불가능</td>\n",
       "      <td>3/4컵</td>\n",
       "      <td>6</td>\n",
       "      <td>1</td>\n",
       "    </tr>\n",
       "    <tr>\n",
       "      <th>981</th>\n",
       "      <td>윌로우 이지브라세트</td>\n",
       "      <td>블랙</td>\n",
       "      <td>70B</td>\n",
       "      <td>65A, 65B, 70A</td>\n",
       "      <td>레이스 원단, 몸에 밀착되고 복원력이 좋은 소재</td>\n",
       "      <td>무채색계열 (블랙, 화이트, 그레이)</td>\n",
       "      <td>레이스 장식</td>\n",
       "      <td>1~2cm</td>\n",
       "      <td>불가능</td>\n",
       "      <td>3/4컵</td>\n",
       "      <td>6</td>\n",
       "      <td>1</td>\n",
       "    </tr>\n",
       "    <tr>\n",
       "      <th>982</th>\n",
       "      <td>윌로우 이지브라세트</td>\n",
       "      <td>블랙</td>\n",
       "      <td>75B</td>\n",
       "      <td>70B, 75A, 75B</td>\n",
       "      <td>레이스 원단, 몸에 밀착되고 복원력이 좋은 소재</td>\n",
       "      <td>무채색계열 (블랙, 화이트, 그레이)</td>\n",
       "      <td>레이스 장식</td>\n",
       "      <td>1~2cm</td>\n",
       "      <td>불가능</td>\n",
       "      <td>3/4컵</td>\n",
       "      <td>6</td>\n",
       "      <td>1</td>\n",
       "    </tr>\n",
       "    <tr>\n",
       "      <th>983</th>\n",
       "      <td>윌로우 이지브라세트</td>\n",
       "      <td>블랙</td>\n",
       "      <td>80B</td>\n",
       "      <td>80A, 80B</td>\n",
       "      <td>레이스 원단, 몸에 밀착되고 복원력이 좋은 소재</td>\n",
       "      <td>무채색계열 (블랙, 화이트, 그레이)</td>\n",
       "      <td>레이스 장식</td>\n",
       "      <td>1~2cm</td>\n",
       "      <td>불가능</td>\n",
       "      <td>3/4컵</td>\n",
       "      <td>6</td>\n",
       "      <td>1</td>\n",
       "    </tr>\n",
       "    <tr>\n",
       "      <th>984</th>\n",
       "      <td>윌로우 이지브라세트</td>\n",
       "      <td>블랙</td>\n",
       "      <td>85B</td>\n",
       "      <td>85A, 85B</td>\n",
       "      <td>레이스 원단, 몸에 밀착되고 복원력이 좋은 소재</td>\n",
       "      <td>무채색계열 (블랙, 화이트, 그레이)</td>\n",
       "      <td>레이스 장식</td>\n",
       "      <td>1~2cm</td>\n",
       "      <td>불가능</td>\n",
       "      <td>3/4컵</td>\n",
       "      <td>6</td>\n",
       "      <td>1</td>\n",
       "    </tr>\n",
       "  </tbody>\n",
       "</table>\n",
       "<p>985 rows × 12 columns</p>\n",
       "</div>"
      ],
      "text/plain": [
       "             Item color_item Size       Actualize                    material  \\\n",
       "0    에스더 볼륨업 브라세트         레드    S  60B, 65A, 65AA                  광택감이 도는 소재   \n",
       "1    에스더 볼륨업 브라세트         레드    M  65B, 70A, 70AA                  광택감이 도는 소재   \n",
       "2    에스더 볼륨업 브라세트         레드    L  70B, 75A, 75AA                  광택감이 도는 소재   \n",
       "3    에스더 볼륨업 브라세트         레드   XL  75B, 80A, 80AA                  광택감이 도는 소재   \n",
       "4    에스더 볼륨업 브라세트      퍼플그레이    S  60B, 65AA, 65A                  광택감이 도는 소재   \n",
       "..            ...        ...  ...             ...                         ...   \n",
       "980    윌로우 이지브라세트        오렌지  85B        85A, 85B  레이스 원단, 몸에 밀착되고 복원력이 좋은 소재   \n",
       "981    윌로우 이지브라세트         블랙  70B   65A, 65B, 70A  레이스 원단, 몸에 밀착되고 복원력이 좋은 소재   \n",
       "982    윌로우 이지브라세트         블랙  75B   70B, 75A, 75B  레이스 원단, 몸에 밀착되고 복원력이 좋은 소재   \n",
       "983    윌로우 이지브라세트         블랙  80B        80A, 80B  레이스 원단, 몸에 밀착되고 복원력이 좋은 소재   \n",
       "984    윌로우 이지브라세트         블랙  85B        85A, 85B  레이스 원단, 몸에 밀착되고 복원력이 좋은 소재   \n",
       "\n",
       "                    Color description Thickness  pad   cub_type  dec  Thick  \n",
       "0             원색계열 (무지개색)          은사   2.5~3cm  불가능  3/4컵, 저중심   25      2  \n",
       "1             원색계열 (무지개색)          은사   2.5~3cm  불가능  3/4컵, 저중심   25      2  \n",
       "2             원색계열 (무지개색)          은사   2.5~3cm  불가능  3/4컵, 저중심   25      2  \n",
       "3             원색계열 (무지개색)          은사   2.5~3cm  불가능  3/4컵, 저중심   25      2  \n",
       "4    무채색계열 (블랙, 화이트, 그레이)          은사   2.5~3cm  불가능  3/4컵, 저중심   25      2  \n",
       "..                    ...         ...       ...  ...        ...  ...    ...  \n",
       "980           원색계열 (무지개색)      레이스 장식     1~2cm  불가능       3/4컵    6      1  \n",
       "981  무채색계열 (블랙, 화이트, 그레이)      레이스 장식     1~2cm  불가능       3/4컵    6      1  \n",
       "982  무채색계열 (블랙, 화이트, 그레이)      레이스 장식     1~2cm  불가능       3/4컵    6      1  \n",
       "983  무채색계열 (블랙, 화이트, 그레이)      레이스 장식     1~2cm  불가능       3/4컵    6      1  \n",
       "984  무채색계열 (블랙, 화이트, 그레이)      레이스 장식     1~2cm  불가능       3/4컵    6      1  \n",
       "\n",
       "[985 rows x 12 columns]"
      ]
     },
     "metadata": {},
     "output_type": "display_data"
    }
   ],
   "source": [
    "display(bra_tag)"
   ]
  },
  {
   "cell_type": "code",
   "execution_count": 27,
   "metadata": {
    "scrolled": true
   },
   "outputs": [
    {
     "data": {
      "image/png": "[encoded data removed]",
      "text/plain": [
       "<Figure size 720x576 with 2 Axes>"
      ]
     },
     "metadata": {
      "needs_background": "light"
     },
     "output_type": "display_data"
    }
   ],
   "source": [
    "plt.scatter(bra_tag.Thick,# x\n",
    "            bra_tag.dec, # y\n",
    "             alpha=0.2,\n",
    "             s=200&bra_tag.Thick, #marker size\n",
    "             c=bra_tag.dec, #marker color\n",
    "             cmap='viridis')\n",
    "\n",
    "\n",
    "plt.title('Scatter plot with dec(description)& Thickness',fontsize=14)\n",
    "plt.xlabel('description',fontsize=12)\n",
    "plt.ylabel('thickness', fontsize=12)\n",
    "plt.colorbar()\n",
    "plt.show()"
   ]
  },
  {
   "cell_type": "code",
   "execution_count": 26,
   "metadata": {},
   "outputs": [
    {
     "data": {
      "image/png": "[encoded data removed]",
      "text/plain": [
       "<Figure size 360x360 with 6 Axes>"
      ]
     },
     "metadata": {
      "needs_background": "light"
     },
     "output_type": "display_data"
    }
   ],
   "source": [
    "sns.pairplot(bra_tag,diag_kind='hist')\n",
    "plt.show()"
   ]
  },
  {
   "cell_type": "code",
   "execution_count": 28,
   "metadata": {},
   "outputs": [
    {
     "data": {
      "text/html": [
       "<div>\n",
       "<style scoped>\n",
       "    .dataframe tbody tr th:only-of-type {\n",
       "        vertical-align: middle;\n",
       "    }\n",
       "\n",
       "    .dataframe tbody tr th {\n",
       "        vertical-align: top;\n",
       "    }\n",
       "\n",
       "    .dataframe thead th {\n",
       "        text-align: right;\n",
       "    }\n",
       "</style>\n",
       "<table border=\"1\" class=\"dataframe\">\n",
       "  <thead>\n",
       "    <tr style=\"text-align: right;\">\n",
       "      <th></th>\n",
       "      <th>Thick</th>\n",
       "      <th>dec</th>\n",
       "    </tr>\n",
       "    <tr>\n",
       "      <th>Item</th>\n",
       "      <th></th>\n",
       "      <th></th>\n",
       "    </tr>\n",
       "  </thead>\n",
       "  <tbody>\n",
       "    <tr>\n",
       "      <th>나디아 브라렛세트</th>\n",
       "      <td>60</td>\n",
       "      <td>60</td>\n",
       "    </tr>\n",
       "    <tr>\n",
       "      <th>넬리 이지브라세트</th>\n",
       "      <td>0</td>\n",
       "      <td>240</td>\n",
       "    </tr>\n",
       "    <tr>\n",
       "      <th>노라 브라렛세트</th>\n",
       "      <td>0</td>\n",
       "      <td>48</td>\n",
       "    </tr>\n",
       "    <tr>\n",
       "      <th>니나 브라렛세트</th>\n",
       "      <td>0</td>\n",
       "      <td>320</td>\n",
       "    </tr>\n",
       "    <tr>\n",
       "      <th>니키타 이지브라세트</th>\n",
       "      <td>16</td>\n",
       "      <td>8</td>\n",
       "    </tr>\n",
       "  </tbody>\n",
       "</table>\n",
       "</div>"
      ],
      "text/plain": [
       "            Thick  dec\n",
       "Item                  \n",
       "나디아 브라렛세트      60   60\n",
       "넬리 이지브라세트       0  240\n",
       "노라 브라렛세트        0   48\n",
       "니나 브라렛세트        0  320\n",
       "니키타 이지브라세트     16    8"
      ]
     },
     "execution_count": 28,
     "metadata": {},
     "output_type": "execute_result"
    }
   ],
   "source": [
    "bra_tag_pivot=pd.pivot_table(bra_tag,index='Item',aggfunc=np.sum)\n",
    "bra_tag_pivot.head()"
   ]
  },
  {
   "cell_type": "code",
   "execution_count": 29,
   "metadata": {
    "scrolled": true
   },
   "outputs": [
    {
     "data": {
      "image/png": "[encoded data removed]",
      "text/plain": [
       "<Figure size 10800x2160 with 2 Axes>"
      ]
     },
     "metadata": {
      "needs_background": "light"
     },
     "output_type": "display_data"
    }
   ],
   "source": [
    "plt.figure(figsize=(150,30))\n",
    "\n",
    "plt.subplot(131)\n",
    "plt.bar(bra_tag.Item,bra_tag.dec)\n",
    "plt.subplot(132)\n",
    "plt.scatter(bra_tag.Item,bra_tag.dec)\n",
    "plt.show()"
   ]
  },
  {
   "cell_type": "code",
   "execution_count": 30,
   "metadata": {},
   "outputs": [
    {
     "data": {
      "text/plain": [
       "0      에스더 볼륨업 브라세트\n",
       "1      에스더 볼륨업 브라세트\n",
       "2      에스더 볼륨업 브라세트\n",
       "3      에스더 볼륨업 브라세트\n",
       "4      에스더 볼륨업 브라세트\n",
       "           ...     \n",
       "980      윌로우 이지브라세트\n",
       "981      윌로우 이지브라세트\n",
       "982      윌로우 이지브라세트\n",
       "983      윌로우 이지브라세트\n",
       "984      윌로우 이지브라세트\n",
       "Name: Item, Length: 985, dtype: object"
      ]
     },
     "execution_count": 30,
     "metadata": {},
     "output_type": "execute_result"
    }
   ],
   "source": [
    "bra_tag.Item"
   ]
  },
  {
   "cell_type": "code",
   "execution_count": 31,
   "metadata": {
    "scrolled": true
   },
   "outputs": [
    {
     "data": {
      "text/plain": [
       "0      2\n",
       "1      2\n",
       "2      2\n",
       "3      2\n",
       "4      2\n",
       "      ..\n",
       "980    1\n",
       "981    1\n",
       "982    1\n",
       "983    1\n",
       "984    1\n",
       "Name: Thick, Length: 985, dtype: int64"
      ]
     },
     "execution_count": 31,
     "metadata": {},
     "output_type": "execute_result"
    }
   ],
   "source": [
    "bra_tag.Thick"
   ]
  },
  {
   "cell_type": "code",
   "execution_count": null,
   "metadata": {},
   "outputs": [],
   "source": [
    "with open('bra_tag.csv','a') as f:\n",
    "    f.write(bra_tag)"
   ]
  },
  {
   "cell_type": "code",
   "execution_count": null,
   "metadata": {},
   "outputs": [],
   "source": [
    "#data fram을 문자열로 바꾸기\n",
    "pd.Series.astype(str)"
   ]
  },
  {
   "cell_type": "code",
   "execution_count": 32,
   "metadata": {},
   "outputs": [
    {
     "data": {
      "text/plain": [
       "Item           object\n",
       "color_item     object\n",
       "Size           object\n",
       "Actualize      object\n",
       "material       object\n",
       "Color          object\n",
       "description    object\n",
       "Thickness      object\n",
       "pad            object\n",
       "cub_type       object\n",
       "dec             int64\n",
       "Thick           int64\n",
       "dtype: object"
      ]
     },
     "execution_count": 32,
     "metadata": {},
     "output_type": "execute_result"
    }
   ],
   "source": [
    "bra_tag.dtypes"
   ]
  },
  {
   "cell_type": "code",
   "execution_count": 48,
   "metadata": {},
   "outputs": [
    {
     "data": {
      "text/html": [
       "<div>\n",
       "<style scoped>\n",
       "    .dataframe tbody tr th:only-of-type {\n",
       "        vertical-align: middle;\n",
       "    }\n",
       "\n",
       "    .dataframe tbody tr th {\n",
       "        vertical-align: top;\n",
       "    }\n",
       "\n",
       "    .dataframe thead th {\n",
       "        text-align: right;\n",
       "    }\n",
       "</style>\n",
       "<table border=\"1\" class=\"dataframe\">\n",
       "  <thead>\n",
       "    <tr style=\"text-align: right;\">\n",
       "      <th></th>\n",
       "      <th>dec</th>\n",
       "      <th>Thick</th>\n",
       "    </tr>\n",
       "  </thead>\n",
       "  <tbody>\n",
       "    <tr>\n",
       "      <th>0</th>\n",
       "      <td>25</td>\n",
       "      <td>2</td>\n",
       "    </tr>\n",
       "    <tr>\n",
       "      <th>1</th>\n",
       "      <td>25</td>\n",
       "      <td>2</td>\n",
       "    </tr>\n",
       "    <tr>\n",
       "      <th>2</th>\n",
       "      <td>25</td>\n",
       "      <td>2</td>\n",
       "    </tr>\n",
       "    <tr>\n",
       "      <th>3</th>\n",
       "      <td>25</td>\n",
       "      <td>2</td>\n",
       "    </tr>\n",
       "    <tr>\n",
       "      <th>4</th>\n",
       "      <td>25</td>\n",
       "      <td>2</td>\n",
       "    </tr>\n",
       "    <tr>\n",
       "      <th>...</th>\n",
       "      <td>...</td>\n",
       "      <td>...</td>\n",
       "    </tr>\n",
       "    <tr>\n",
       "      <th>980</th>\n",
       "      <td>6</td>\n",
       "      <td>1</td>\n",
       "    </tr>\n",
       "    <tr>\n",
       "      <th>981</th>\n",
       "      <td>6</td>\n",
       "      <td>1</td>\n",
       "    </tr>\n",
       "    <tr>\n",
       "      <th>982</th>\n",
       "      <td>6</td>\n",
       "      <td>1</td>\n",
       "    </tr>\n",
       "    <tr>\n",
       "      <th>983</th>\n",
       "      <td>6</td>\n",
       "      <td>1</td>\n",
       "    </tr>\n",
       "    <tr>\n",
       "      <th>984</th>\n",
       "      <td>6</td>\n",
       "      <td>1</td>\n",
       "    </tr>\n",
       "  </tbody>\n",
       "</table>\n",
       "<p>985 rows × 2 columns</p>\n",
       "</div>"
      ],
      "text/plain": [
       "     dec  Thick\n",
       "0     25      2\n",
       "1     25      2\n",
       "2     25      2\n",
       "3     25      2\n",
       "4     25      2\n",
       "..   ...    ...\n",
       "980    6      1\n",
       "981    6      1\n",
       "982    6      1\n",
       "983    6      1\n",
       "984    6      1\n",
       "\n",
       "[985 rows x 2 columns]"
      ]
     },
     "execution_count": 48,
     "metadata": {},
     "output_type": "execute_result"
    }
   ],
   "source": [
    "#convert all except dec,thick to numeric\n",
    "bra_tag[['dec','Thick']].apply(pd.to_numeric,errors='coerce')"
   ]
  },
  {
   "cell_type": "code",
   "execution_count": 50,
   "metadata": {},
   "outputs": [
    {
     "data": {
      "text/plain": [
       "0      25\n",
       "1      25\n",
       "2      25\n",
       "3      25\n",
       "4      25\n",
       "       ..\n",
       "980     6\n",
       "981     6\n",
       "982     6\n",
       "983     6\n",
       "984     6\n",
       "Name: dec, Length: 985, dtype: int64"
      ]
     },
     "execution_count": 50,
     "metadata": {},
     "output_type": "execute_result"
    }
   ],
   "source": [
    "bra_tag_revision_dec=bra_tag.dec\n",
    "bra_tag_revision_dec"
   ]
  },
  {
   "cell_type": "code",
   "execution_count": 57,
   "metadata": {},
   "outputs": [
    {
     "data": {
      "text/plain": [
       "0      2\n",
       "1      2\n",
       "2      2\n",
       "3      2\n",
       "4      2\n",
       "      ..\n",
       "980    1\n",
       "981    1\n",
       "982    1\n",
       "983    1\n",
       "984    1\n",
       "Name: Thick, Length: 985, dtype: int64"
      ]
     },
     "execution_count": 57,
     "metadata": {},
     "output_type": "execute_result"
    }
   ],
   "source": [
    "bra_tag_revision_thickc_2=bra_tag.Thick\n",
    "bra_tag_revision_thickc_2\n"
   ]
  },
  {
   "cell_type": "code",
   "execution_count": 66,
   "metadata": {},
   "outputs": [],
   "source": [
    "#데이터 저장 하기\n",
    "bra_tag.to_csv('bra_tag.csv',index=False)"
   ]
  },
  {
   "cell_type": "code",
   "execution_count": 67,
   "metadata": {},
   "outputs": [
    {
     "data": {
      "text/plain": [
       "Item           object\n",
       "color_item     object\n",
       "Size           object\n",
       "Actualize      object\n",
       "material       object\n",
       "Color          object\n",
       "description    object\n",
       "Thickness      object\n",
       "pad            object\n",
       "cub_type       object\n",
       "dec             int64\n",
       "Thick           int64\n",
       "dtype: object"
      ]
     },
     "execution_count": 67,
     "metadata": {},
     "output_type": "execute_result"
    }
   ],
   "source": [
    "bra_tag.dtypes"
   ]
  },
  {
   "cell_type": "code",
   "execution_count": null,
   "metadata": {},
   "outputs": [],
   "source": []
  }
 ],
 "metadata": {
  "kernelspec": {
   "display_name": "Python 3",
   "language": "python",
   "name": "python3"
  },
  "language_info": {
   "codemirror_mode": {
    "name": "ipython",
    "version": 3
   },
   "file_extension": ".py",
   "mimetype": "text/x-python",
   "name": "python",
   "nbconvert_exporter": "python",
   "pygments_lexer": "ipython3",
   "version": "3.7.6"
  }
 },
 "nbformat": 4,
 "nbformat_minor": 4
}
